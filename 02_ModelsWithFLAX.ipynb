{
 "cells": [
  {
   "cell_type": "code",
   "execution_count": 2,
   "metadata": {},
   "outputs": [],
   "source": [
    "import jax\n",
    "import flax\n",
    "import optax\n",
    "\n",
    "from flax import linen as nn\n",
    "from flax.core import freeze, unfreeze\n",
    "\n",
    "from torchvision.datasets import MNIST\n",
    "from torch.utils.data import DataLoader\n",
    "\n",
    "from matplotlib import pyplot as plt"
   ]
  },
  {
   "cell_type": "code",
   "execution_count": 3,
   "metadata": {},
   "outputs": [
    {
     "name": "stdout",
     "output_type": "stream",
     "text": [
      "(<class 'flax.linen.module.Module'>,)\n"
     ]
    }
   ],
   "source": [
    "model = nn.Dense(features=5)\n",
    "print(nn.Dense.__bases__)"
   ]
  },
  {
   "cell_type": "code",
   "execution_count": 4,
   "metadata": {},
   "outputs": [
    {
     "name": "stdout",
     "output_type": "stream",
     "text": [
      "FrozenDict({\n",
      "    params: {\n",
      "        bias: (5,),\n",
      "        kernel: (10, 5),\n",
      "    },\n",
      "})\n"
     ]
    }
   ],
   "source": [
    "seed = 10\n",
    "key1, key2 = jax.random.split(jax.random.PRNGKey(seed))\n",
    "x = jax.random.normal(key1, (10,))\n",
    "\n",
    "y, params = model.init_with_output(key2, x)\n",
    "print(jax.tree_map(lambda x: x.shape, params))"
   ]
  },
  {
   "cell_type": "code",
   "execution_count": 5,
   "metadata": {},
   "outputs": [
    {
     "name": "stdout",
     "output_type": "stream",
     "text": [
      "[ 0.14104751  1.0235668   0.6182555   0.8157653  -0.6606658 ]\n"
     ]
    }
   ],
   "source": [
    "y = model.apply(params, x)\n",
    "print(y)"
   ]
  }
 ],
 "metadata": {
  "kernelspec": {
   "display_name": "Python 3.7.13 ('prml')",
   "language": "python",
   "name": "python3"
  },
  "language_info": {
   "codemirror_mode": {
    "name": "ipython",
    "version": 3
   },
   "file_extension": ".py",
   "mimetype": "text/x-python",
   "name": "python",
   "nbconvert_exporter": "python",
   "pygments_lexer": "ipython3",
   "version": "3.7.13"
  },
  "orig_nbformat": 4,
  "vscode": {
   "interpreter": {
    "hash": "988b366f9f6197007d454168f8b010900734e05bbd400e6ff000dcd470bb0cfe"
   }
  }
 },
 "nbformat": 4,
 "nbformat_minor": 2
}
