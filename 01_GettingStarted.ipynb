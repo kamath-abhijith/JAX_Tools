{
 "cells": [
  {
   "cell_type": "code",
   "execution_count": 19,
   "id": "e4c24a6c",
   "metadata": {},
   "outputs": [],
   "source": [
    "import numpy as np\n",
    "import jax\n",
    "\n",
    "from jax import random\n",
    "from jax import device_put\n",
    "from jax import jit\n",
    "from jax import numpy as jnp\n",
    "from matplotlib import pyplot as plt"
   ]
  },
  {
   "cell_type": "code",
   "execution_count": 5,
   "id": "ba2de806",
   "metadata": {},
   "outputs": [
    {
     "name": "stderr",
     "output_type": "stream",
     "text": [
      "WARNING:absl:No GPU/TPU found, falling back to CPU. (Set TF_CPP_MIN_LOG_LEVEL=0 and rerun for more info.)\n"
     ]
    },
    {
     "data": {
      "text/plain": [
       "'cpu'"
      ]
     },
     "execution_count": 5,
     "metadata": {},
     "output_type": "execute_result"
    }
   ],
   "source": [
    "jax.default_backend()"
   ]
  },
  {
   "cell_type": "markdown",
   "id": "f7ec2a8e",
   "metadata": {},
   "source": [
    "## NumPy-like JAX"
   ]
  },
  {
   "cell_type": "code",
   "execution_count": 6,
   "id": "2f0e780f",
   "metadata": {
    "scrolled": true
   },
   "outputs": [],
   "source": [
    "t = jnp.linspace(0,1,100)\n",
    "f = jnp.sin(20 * t)"
   ]
  },
  {
   "cell_type": "code",
   "execution_count": 7,
   "id": "3999ede5",
   "metadata": {},
   "outputs": [
    {
     "data": {
      "text/plain": [
       "[<matplotlib.lines.Line2D at 0x7fd3a094a950>]"
      ]
     },
     "execution_count": 7,
     "metadata": {},
     "output_type": "execute_result"
    },
    {
     "data": {
      "image/png": "[encoded data removed]",
      "text/plain": [
       "<Figure size 432x288 with 1 Axes>"
      ]
     },
     "metadata": {
      "needs_background": "light"
     },
     "output_type": "display_data"
    }
   ],
   "source": [
    "plt.plot(t,f)"
   ]
  },
  {
   "cell_type": "markdown",
   "id": "6d4cf7a5",
   "metadata": {},
   "source": [
    "## Immutable Arrays"
   ]
  },
  {
   "cell_type": "code",
   "execution_count": 8,
   "id": "16334cba",
   "metadata": {},
   "outputs": [
    {
     "name": "stdout",
     "output_type": "stream",
     "text": [
      "[0 1 2 3 4 5 6 7 8 9]\n"
     ]
    },
    {
     "ename": "TypeError",
     "evalue": "'<class 'jaxlib.xla_extension.DeviceArray'>' object does not support item assignment. JAX arrays are immutable. Instead of ``x[idx] = y``, use ``x = x.at[idx].set(y)`` or another .at[] method: https://jax.readthedocs.io/en/latest/_autosummary/jax.numpy.ndarray.at.html",
     "output_type": "error",
     "traceback": [
      "\u001b[0;31m---------------------------------------------------------------------------\u001b[0m",
      "\u001b[0;31mTypeError\u001b[0m                                 Traceback (most recent call last)",
      "\u001b[0;32m/var/folders/yz/m0_0pkqj2yx46xp7zswc3mdr0000gn/T/ipykernel_13811/2814696763.py\u001b[0m in \u001b[0;36m<module>\u001b[0;34m\u001b[0m\n\u001b[1;32m      1\u001b[0m \u001b[0mx\u001b[0m \u001b[0;34m=\u001b[0m \u001b[0mjnp\u001b[0m\u001b[0;34m.\u001b[0m\u001b[0marange\u001b[0m\u001b[0;34m(\u001b[0m\u001b[0;36m10\u001b[0m\u001b[0;34m)\u001b[0m\u001b[0;34m\u001b[0m\u001b[0;34m\u001b[0m\u001b[0m\n\u001b[1;32m      2\u001b[0m \u001b[0mprint\u001b[0m\u001b[0;34m(\u001b[0m\u001b[0mx\u001b[0m\u001b[0;34m)\u001b[0m\u001b[0;34m\u001b[0m\u001b[0;34m\u001b[0m\u001b[0m\n\u001b[0;32m----> 3\u001b[0;31m \u001b[0mx\u001b[0m\u001b[0;34m[\u001b[0m\u001b[0;36m0\u001b[0m\u001b[0;34m]\u001b[0m \u001b[0;34m=\u001b[0m \u001b[0;36m10\u001b[0m\u001b[0;34m\u001b[0m\u001b[0;34m\u001b[0m\u001b[0m\n\u001b[0m",
      "\u001b[0;32m/opt/miniconda3/envs/prml/lib/python3.7/site-packages/jax/_src/numpy/lax_numpy.py\u001b[0m in \u001b[0;36m_unimplemented_setitem\u001b[0;34m(self, i, x)\u001b[0m\n\u001b[1;32m   4566\u001b[0m          \u001b[0;34m\"or another .at[] method: \"\u001b[0m\u001b[0;34m\u001b[0m\u001b[0;34m\u001b[0m\u001b[0m\n\u001b[1;32m   4567\u001b[0m          \"https://jax.readthedocs.io/en/latest/_autosummary/jax.numpy.ndarray.at.html\")\n\u001b[0;32m-> 4568\u001b[0;31m   \u001b[0;32mraise\u001b[0m \u001b[0mTypeError\u001b[0m\u001b[0;34m(\u001b[0m\u001b[0mmsg\u001b[0m\u001b[0;34m.\u001b[0m\u001b[0mformat\u001b[0m\u001b[0;34m(\u001b[0m\u001b[0mtype\u001b[0m\u001b[0;34m(\u001b[0m\u001b[0mself\u001b[0m\u001b[0;34m)\u001b[0m\u001b[0;34m)\u001b[0m\u001b[0;34m)\u001b[0m\u001b[0;34m\u001b[0m\u001b[0;34m\u001b[0m\u001b[0m\n\u001b[0m\u001b[1;32m   4569\u001b[0m \u001b[0;34m\u001b[0m\u001b[0m\n\u001b[1;32m   4570\u001b[0m \u001b[0;32mdef\u001b[0m \u001b[0m_operator_round\u001b[0m\u001b[0;34m(\u001b[0m\u001b[0mnumber\u001b[0m\u001b[0;34m,\u001b[0m \u001b[0mndigits\u001b[0m\u001b[0;34m=\u001b[0m\u001b[0;32mNone\u001b[0m\u001b[0;34m)\u001b[0m\u001b[0;34m:\u001b[0m\u001b[0;34m\u001b[0m\u001b[0;34m\u001b[0m\u001b[0m\n",
      "\u001b[0;31mTypeError\u001b[0m: '<class 'jaxlib.xla_extension.DeviceArray'>' object does not support item assignment. JAX arrays are immutable. Instead of ``x[idx] = y``, use ``x = x.at[idx].set(y)`` or another .at[] method: https://jax.readthedocs.io/en/latest/_autosummary/jax.numpy.ndarray.at.html"
     ]
    }
   ],
   "source": [
    "x = jnp.arange(10)\n",
    "print(x)\n",
    "x[0] = 10"
   ]
  },
  {
   "cell_type": "code",
   "execution_count": 9,
   "id": "a092c23b",
   "metadata": {},
   "outputs": [
    {
     "name": "stdout",
     "output_type": "stream",
     "text": [
      "[10  1  2  3  4  5  6  7  8  9]\n"
     ]
    }
   ],
   "source": [
    "x = x.at[0].set(10)\n",
    "print(x)"
   ]
  },
  {
   "cell_type": "code",
   "execution_count": 10,
   "id": "d93fba1c",
   "metadata": {},
   "outputs": [
    {
     "name": "stdout",
     "output_type": "stream",
     "text": [
      "[[-0.3721109   0.26423115 -0.18252768 -0.7368197  -0.44030377]\n",
      " [-0.1521442  -0.67135346 -0.5908641   0.73168886  0.5673026 ]]\n"
     ]
    }
   ],
   "source": [
    "key = random.PRNGKey(0)\n",
    "x = random.normal(key, (2,5))\n",
    "print(x)"
   ]
  },
  {
   "cell_type": "code",
   "execution_count": 11,
   "id": "3412d553",
   "metadata": {},
   "outputs": [
    {
     "name": "stdout",
     "output_type": "stream",
     "text": [
      "[[ 0.          1.          2.          3.          4.        ]\n",
      " [-0.1521442  -0.67135346 -0.5908641   0.73168886  0.5673026 ]]\n"
     ]
    }
   ],
   "source": [
    "x = x.at[0].set(jnp.arange(5))\n",
    "print(x)"
   ]
  },
  {
   "cell_type": "code",
   "execution_count": 12,
   "id": "ad94a6a9",
   "metadata": {},
   "outputs": [
    {
     "name": "stdout",
     "output_type": "stream",
     "text": [
      "[[ 0.          1.          2.          3.          4.        ]\n",
      " [ 1.         -0.67135346 -0.5908641   0.73168886  0.5673026 ]]\n"
     ]
    }
   ],
   "source": [
    "x = x.at[:,0].set(jnp.arange(2))\n",
    "print(x)"
   ]
  },
  {
   "cell_type": "code",
   "execution_count": 13,
   "id": "2a976278",
   "metadata": {},
   "outputs": [
    {
     "name": "stdout",
     "output_type": "stream",
     "text": [
      "<class 'jaxlib.xla_extension.DeviceArray'>\n"
     ]
    }
   ],
   "source": [
    "print(type(x))"
   ]
  },
  {
   "cell_type": "markdown",
   "id": "1abe31a4",
   "metadata": {},
   "source": [
    "## JAX Compute = Speed"
   ]
  },
  {
   "cell_type": "code",
   "execution_count": 14,
   "id": "1fed2a81",
   "metadata": {},
   "outputs": [],
   "source": [
    "x_np = np.random.randn(10000)\n",
    "x_jnp = random.normal(key, (10000,))"
   ]
  },
  {
   "cell_type": "code",
   "execution_count": 15,
   "id": "250f299c",
   "metadata": {},
   "outputs": [
    {
     "name": "stdout",
     "output_type": "stream",
     "text": [
      "21.9 µs ± 62.8 ns per loop (mean ± std. dev. of 7 runs, 10000 loops each)\n",
      "23.1 µs ± 101 ns per loop (mean ± std. dev. of 7 runs, 10000 loops each)\n",
      "22.8 µs ± 48.8 ns per loop (mean ± std. dev. of 7 runs, 10000 loops each)\n"
     ]
    }
   ],
   "source": [
    "%timeit jnp.dot(x_jnp, x_jnp.T)\n",
    "%timeit jnp.dot(x_jnp, x_jnp.T).block_until_ready()\n",
    "%timeit x_jnp @ x_jnp.T"
   ]
  },
  {
   "cell_type": "code",
   "execution_count": 16,
   "id": "0975adf0",
   "metadata": {
    "scrolled": true
   },
   "outputs": [
    {
     "name": "stdout",
     "output_type": "stream",
     "text": [
      "3.66 µs ± 721 ns per loop (mean ± std. dev. of 7 runs, 100000 loops each)\n",
      "3.14 µs ± 717 ns per loop (mean ± std. dev. of 7 runs, 100000 loops each)\n"
     ]
    }
   ],
   "source": [
    "%timeit np.dot(x_np, x_np.T)\n",
    "%timeit x_np @ x_np.T"
   ]
  },
  {
   "cell_type": "code",
   "execution_count": 18,
   "id": "c8e5ad51",
   "metadata": {},
   "outputs": [
    {
     "name": "stdout",
     "output_type": "stream",
     "text": [
      "23 µs ± 47.2 ns per loop (mean ± std. dev. of 7 runs, 10000 loops each)\n",
      "22.9 µs ± 135 ns per loop (mean ± std. dev. of 7 runs, 10000 loops each)\n"
     ]
    }
   ],
   "source": [
    "x_np_device = device_put(x_np)\n",
    "%timeit jnp.dot(x_np_device, x_np_device.T).block_until_ready()\n",
    "%timeit x_np_device @ x_np_device.T"
   ]
  },
  {
   "cell_type": "markdown",
   "id": "c59c959f",
   "metadata": {},
   "source": [
    "## JAX Transformation Functions"
   ]
  },
  {
   "cell_type": "markdown",
   "id": "0205a810",
   "metadata": {},
   "source": [
    "#### Using ```jit()```"
   ]
  },
  {
   "cell_type": "code",
   "execution_count": 21,
   "id": "ecf14af2",
   "metadata": {},
   "outputs": [
    {
     "data": {
      "text/plain": [
       "[<matplotlib.lines.Line2D at 0x7fd390664990>]"
      ]
     },
     "execution_count": 21,
     "metadata": {},
     "output_type": "execute_result"
    },
    {
     "data": {
      "image/png": "[encoded data removed]",
      "text/plain": [
       "<Figure size 432x288 with 1 Axes>"
      ]
     },
     "metadata": {
      "needs_background": "light"
     },
     "output_type": "display_data"
    }
   ],
   "source": [
    "def selu(x, alpha=1.67, lmbda=1.05):\n",
    "    return lmbda * jnp.where(x > 0, x, alpha * jnp.exp(x) - alpha)\n",
    "\n",
    "x = jnp.linspace(-10,10,1000)\n",
    "plt.plot(x, selu(x))"
   ]
  },
  {
   "cell_type": "code",
   "execution_count": 24,
   "id": "7513041a",
   "metadata": {},
   "outputs": [],
   "source": [
    "selu_jit = jit(selu)"
   ]
  },
  {
   "cell_type": "code",
   "execution_count": 23,
   "id": "ef089bf0",
   "metadata": {},
   "outputs": [
    {
     "name": "stdout",
     "output_type": "stream",
     "text": [
      "1.25 ms ± 2.91 µs per loop (mean ± std. dev. of 7 runs, 1000 loops each)\n",
      "319 µs ± 641 ns per loop (mean ± std. dev. of 7 runs, 1000 loops each)\n"
     ]
    }
   ],
   "source": [
    "data = random.normal(key, (1000000,))\n",
    "%timeit selu(data).block_until_ready()\n",
    "%timeit selu_jit(data).block_until_ready()"
   ]
  },
  {
   "cell_type": "markdown",
   "id": "4135188f",
   "metadata": {},
   "source": [
    "#### Using ```grad()```"
   ]
  },
  {
   "cell_type": "markdown",
   "id": "b0c02bbf",
   "metadata": {},
   "source": [
    "#### Using ```vmap()```"
   ]
  }
 ],
 "metadata": {
  "kernelspec": {
   "display_name": "Python 3 (ipykernel)",
   "language": "python",
   "name": "python3"
  },
  "language_info": {
   "codemirror_mode": {
    "name": "ipython",
    "version": 3
   },
   "file_extension": ".py",
   "mimetype": "text/x-python",
   "name": "python",
   "nbconvert_exporter": "python",
   "pygments_lexer": "ipython3",
   "version": "3.7.11"
  }
 },
 "nbformat": 4,
 "nbformat_minor": 5
}
